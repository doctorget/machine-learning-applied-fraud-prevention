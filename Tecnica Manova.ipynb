{
 "cells": [
  {
   "cell_type": "code",
   "execution_count": 1,
   "metadata": {},
   "outputs": [],
   "source": [
    "import pandas as pd"
   ]
  },
  {
   "cell_type": "code",
   "execution_count": 3,
   "metadata": {},
   "outputs": [],
   "source": [
    "dados = pd.read_csv('base_scaled.csv')"
   ]
  },
  {
   "cell_type": "code",
   "execution_count": 4,
   "metadata": {},
   "outputs": [
    {
     "data": {
      "text/html": [
       "<div>\n",
       "<style scoped>\n",
       "    .dataframe tbody tr th:only-of-type {\n",
       "        vertical-align: middle;\n",
       "    }\n",
       "\n",
       "    .dataframe tbody tr th {\n",
       "        vertical-align: top;\n",
       "    }\n",
       "\n",
       "    .dataframe thead th {\n",
       "        text-align: right;\n",
       "    }\n",
       "</style>\n",
       "<table border=\"1\" class=\"dataframe\">\n",
       "  <thead>\n",
       "    <tr style=\"text-align: right;\">\n",
       "      <th></th>\n",
       "      <th>Unnamed: 0</th>\n",
       "      <th>isFraud</th>\n",
       "      <th>TransactionDT</th>\n",
       "      <th>TransactionAmt</th>\n",
       "      <th>ProductCD</th>\n",
       "      <th>card1</th>\n",
       "      <th>card2</th>\n",
       "      <th>card3</th>\n",
       "      <th>card4</th>\n",
       "      <th>card5</th>\n",
       "      <th>card6</th>\n",
       "      <th>addr1</th>\n",
       "      <th>addr2</th>\n",
       "      <th>dist1</th>\n",
       "    </tr>\n",
       "  </thead>\n",
       "  <tbody>\n",
       "    <tr>\n",
       "      <td>0</td>\n",
       "      <td>290694</td>\n",
       "      <td>1.0</td>\n",
       "      <td>0.460734</td>\n",
       "      <td>0.000692</td>\n",
       "      <td>0.25</td>\n",
       "      <td>0.072201</td>\n",
       "      <td>0.890</td>\n",
       "      <td>0.648855</td>\n",
       "      <td>0.333333</td>\n",
       "      <td>0.919708</td>\n",
       "      <td>1.0</td>\n",
       "      <td>0.452273</td>\n",
       "      <td>0.836957</td>\n",
       "      <td>0.011521</td>\n",
       "    </tr>\n",
       "    <tr>\n",
       "      <td>1</td>\n",
       "      <td>332047</td>\n",
       "      <td>1.0</td>\n",
       "      <td>0.526220</td>\n",
       "      <td>0.001288</td>\n",
       "      <td>0.25</td>\n",
       "      <td>0.461370</td>\n",
       "      <td>0.890</td>\n",
       "      <td>0.648855</td>\n",
       "      <td>0.333333</td>\n",
       "      <td>0.270073</td>\n",
       "      <td>1.0</td>\n",
       "      <td>0.452273</td>\n",
       "      <td>0.836957</td>\n",
       "      <td>0.011521</td>\n",
       "    </tr>\n",
       "    <tr>\n",
       "      <td>2</td>\n",
       "      <td>467475</td>\n",
       "      <td>1.0</td>\n",
       "      <td>0.778893</td>\n",
       "      <td>0.003656</td>\n",
       "      <td>0.00</td>\n",
       "      <td>0.588239</td>\n",
       "      <td>0.442</td>\n",
       "      <td>0.381679</td>\n",
       "      <td>0.333333</td>\n",
       "      <td>0.693431</td>\n",
       "      <td>0.0</td>\n",
       "      <td>0.854545</td>\n",
       "      <td>0.836957</td>\n",
       "      <td>0.011521</td>\n",
       "    </tr>\n",
       "    <tr>\n",
       "      <td>3</td>\n",
       "      <td>514361</td>\n",
       "      <td>1.0</td>\n",
       "      <td>0.869131</td>\n",
       "      <td>0.000724</td>\n",
       "      <td>0.25</td>\n",
       "      <td>0.477121</td>\n",
       "      <td>0.006</td>\n",
       "      <td>0.648855</td>\n",
       "      <td>0.333333</td>\n",
       "      <td>0.277372</td>\n",
       "      <td>0.0</td>\n",
       "      <td>0.452273</td>\n",
       "      <td>0.836957</td>\n",
       "      <td>0.011521</td>\n",
       "    </tr>\n",
       "    <tr>\n",
       "      <td>4</td>\n",
       "      <td>525114</td>\n",
       "      <td>1.0</td>\n",
       "      <td>0.890713</td>\n",
       "      <td>0.031116</td>\n",
       "      <td>0.00</td>\n",
       "      <td>0.288515</td>\n",
       "      <td>0.966</td>\n",
       "      <td>0.381679</td>\n",
       "      <td>0.333333</td>\n",
       "      <td>0.919708</td>\n",
       "      <td>1.0</td>\n",
       "      <td>0.236364</td>\n",
       "      <td>0.836957</td>\n",
       "      <td>0.011521</td>\n",
       "    </tr>\n",
       "  </tbody>\n",
       "</table>\n",
       "</div>"
      ],
      "text/plain": [
       "   Unnamed: 0  isFraud  TransactionDT  TransactionAmt  ProductCD     card1  \\\n",
       "0      290694      1.0       0.460734        0.000692       0.25  0.072201   \n",
       "1      332047      1.0       0.526220        0.001288       0.25  0.461370   \n",
       "2      467475      1.0       0.778893        0.003656       0.00  0.588239   \n",
       "3      514361      1.0       0.869131        0.000724       0.25  0.477121   \n",
       "4      525114      1.0       0.890713        0.031116       0.00  0.288515   \n",
       "\n",
       "   card2     card3     card4     card5  card6     addr1     addr2     dist1  \n",
       "0  0.890  0.648855  0.333333  0.919708    1.0  0.452273  0.836957  0.011521  \n",
       "1  0.890  0.648855  0.333333  0.270073    1.0  0.452273  0.836957  0.011521  \n",
       "2  0.442  0.381679  0.333333  0.693431    0.0  0.854545  0.836957  0.011521  \n",
       "3  0.006  0.648855  0.333333  0.277372    0.0  0.452273  0.836957  0.011521  \n",
       "4  0.966  0.381679  0.333333  0.919708    1.0  0.236364  0.836957  0.011521  "
      ]
     },
     "execution_count": 4,
     "metadata": {},
     "output_type": "execute_result"
    }
   ],
   "source": [
    "dados.head()"
   ]
  },
  {
   "cell_type": "code",
   "execution_count": 5,
   "metadata": {},
   "outputs": [
    {
     "data": {
      "text/plain": [
       "(60073, 14)"
      ]
     },
     "execution_count": 5,
     "metadata": {},
     "output_type": "execute_result"
    }
   ],
   "source": [
    "dados.shape"
   ]
  },
  {
   "cell_type": "markdown",
   "metadata": {},
   "source": [
    "### Analise multivariada com o MANOVA"
   ]
  },
  {
   "cell_type": "code",
   "execution_count": 7,
   "metadata": {},
   "outputs": [],
   "source": [
    "import pandas as pd\n",
    "from statsmodels.multivariate.manova import MANOVA"
   ]
  },
  {
   "cell_type": "code",
   "execution_count": 9,
   "metadata": {},
   "outputs": [
    {
     "name": "stdout",
     "output_type": "stream",
     "text": [
      "                     Multivariate linear model\n",
      "====================================================================\n",
      "                                                                    \n",
      "--------------------------------------------------------------------\n",
      "       Intercept         Value  Num DF   Den DF     F Value   Pr > F\n",
      "--------------------------------------------------------------------\n",
      "          Wilks' lambda  0.0443 7.0000 60065.0000 185081.5413 0.0000\n",
      "         Pillai's trace  0.9557 7.0000 60065.0000 185081.5413 0.0000\n",
      " Hotelling-Lawley trace 21.5695 7.0000 60065.0000 185081.5413 0.0000\n",
      "    Roy's greatest root 21.5695 7.0000 60065.0000 185081.5413 0.0000\n",
      "--------------------------------------------------------------------\n",
      "                                                                    \n",
      "--------------------------------------------------------------------\n",
      "           isFraud         Value  Num DF   Den DF    F Value  Pr > F\n",
      "--------------------------------------------------------------------\n",
      "             Wilks' lambda 0.8597 7.0000 60065.0000 1400.4305 0.0000\n",
      "            Pillai's trace 0.1403 7.0000 60065.0000 1400.4305 0.0000\n",
      "    Hotelling-Lawley trace 0.1632 7.0000 60065.0000 1400.4305 0.0000\n",
      "       Roy's greatest root 0.1632 7.0000 60065.0000 1400.4305 0.0000\n",
      "====================================================================\n",
      "\n"
     ]
    }
   ],
   "source": [
    "maov = MANOVA.from_formula('TransactionDT + TransactionAmt + ProductCD + card1 + card2 + card3 + card4 ~ isFraud', data=dados)\n",
    "\n",
    "print(maov.mv_test())"
   ]
  },
  {
   "cell_type": "code",
   "execution_count": 10,
   "metadata": {},
   "outputs": [
    {
     "name": "stdout",
     "output_type": "stream",
     "text": [
      "                    Multivariate linear model\n",
      "==================================================================\n",
      "                                                                  \n",
      "------------------------------------------------------------------\n",
      "           x0           Value   Num DF   Den DF    F Value  Pr > F\n",
      "------------------------------------------------------------------\n",
      "          Wilks' lambda 0.5569 11.0000 60062.0000 4344.9020 0.0000\n",
      "         Pillai's trace 0.4431 11.0000 60062.0000 4344.9020 0.0000\n",
      " Hotelling-Lawley trace 0.7957 11.0000 60062.0000 4344.9020 0.0000\n",
      "    Roy's greatest root 0.7957 11.0000 60062.0000 4344.9020 0.0000\n",
      "==================================================================\n",
      "\n"
     ]
    }
   ],
   "source": [
    "manova = MANOVA(dados.drop('isFraud', axis = 1), dados['isFraud'])\n",
    "print(manova.mv_test())"
   ]
  },
  {
   "cell_type": "code",
   "execution_count": null,
   "metadata": {},
   "outputs": [],
   "source": []
  }
 ],
 "metadata": {
  "kernelspec": {
   "display_name": "Python 3",
   "language": "python",
   "name": "python3"
  },
  "language_info": {
   "codemirror_mode": {
    "name": "ipython",
    "version": 3
   },
   "file_extension": ".py",
   "mimetype": "text/x-python",
   "name": "python",
   "nbconvert_exporter": "python",
   "pygments_lexer": "ipython3",
   "version": "3.7.4"
  }
 },
 "nbformat": 4,
 "nbformat_minor": 2
}
