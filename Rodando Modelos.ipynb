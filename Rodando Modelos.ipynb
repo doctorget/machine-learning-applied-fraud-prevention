{
 "cells": [
  {
   "cell_type": "code",
   "execution_count": 1,
   "metadata": {},
   "outputs": [],
   "source": [
    "import pandas as pd\n",
    "import numpy as np\n",
    "from sklearn.model_selection import train_test_split\n",
    "from sklearn.svm import LinearSVC\n",
    "from sklearn.metrics import accuracy_score"
   ]
  },
  {
   "cell_type": "code",
   "execution_count": 2,
   "metadata": {},
   "outputs": [],
   "source": [
    "df = pd.read_csv('base_scaled.csv')"
   ]
  },
  {
   "cell_type": "code",
   "execution_count": 3,
   "metadata": {},
   "outputs": [
    {
     "data": {
      "text/plain": [
       "0.0    559392\n",
       "1.0     20073\n",
       "Name: isFraud, dtype: int64"
      ]
     },
     "execution_count": 3,
     "metadata": {},
     "output_type": "execute_result"
    }
   ],
   "source": [
    "\n",
    "df.isFraud.value_counts()"
   ]
  },
  {
   "cell_type": "code",
   "execution_count": 4,
   "metadata": {},
   "outputs": [
    {
     "data": {
      "text/html": [
       "<div>\n",
       "<style scoped>\n",
       "    .dataframe tbody tr th:only-of-type {\n",
       "        vertical-align: middle;\n",
       "    }\n",
       "\n",
       "    .dataframe tbody tr th {\n",
       "        vertical-align: top;\n",
       "    }\n",
       "\n",
       "    .dataframe thead th {\n",
       "        text-align: right;\n",
       "    }\n",
       "</style>\n",
       "<table border=\"1\" class=\"dataframe\">\n",
       "  <thead>\n",
       "    <tr style=\"text-align: right;\">\n",
       "      <th></th>\n",
       "      <th>Unnamed: 0</th>\n",
       "      <th>isFraud</th>\n",
       "      <th>TransactionDT</th>\n",
       "      <th>TransactionAmt</th>\n",
       "      <th>ProductCD</th>\n",
       "      <th>card1</th>\n",
       "      <th>card2</th>\n",
       "      <th>card3</th>\n",
       "      <th>card4</th>\n",
       "      <th>card5</th>\n",
       "      <th>card6</th>\n",
       "      <th>addr1</th>\n",
       "      <th>addr2</th>\n",
       "      <th>dist1</th>\n",
       "    </tr>\n",
       "  </thead>\n",
       "  <tbody>\n",
       "    <tr>\n",
       "      <td>0</td>\n",
       "      <td>0</td>\n",
       "      <td>0.0</td>\n",
       "      <td>0.000000</td>\n",
       "      <td>0.000900</td>\n",
       "      <td>0.00</td>\n",
       "      <td>0.100885</td>\n",
       "      <td>0.608</td>\n",
       "      <td>0.381679</td>\n",
       "      <td>0.666667</td>\n",
       "      <td>0.014599</td>\n",
       "      <td>1.0</td>\n",
       "      <td>0.511364</td>\n",
       "      <td>0.836957</td>\n",
       "      <td>0.011521</td>\n",
       "    </tr>\n",
       "    <tr>\n",
       "      <td>1</td>\n",
       "      <td>1</td>\n",
       "      <td>0.0</td>\n",
       "      <td>0.000004</td>\n",
       "      <td>0.001840</td>\n",
       "      <td>0.00</td>\n",
       "      <td>0.210566</td>\n",
       "      <td>0.780</td>\n",
       "      <td>0.381679</td>\n",
       "      <td>0.333333</td>\n",
       "      <td>0.481752</td>\n",
       "      <td>0.0</td>\n",
       "      <td>0.522727</td>\n",
       "      <td>0.836957</td>\n",
       "      <td>0.027902</td>\n",
       "    </tr>\n",
       "    <tr>\n",
       "      <td>2</td>\n",
       "      <td>2</td>\n",
       "      <td>0.0</td>\n",
       "      <td>0.000006</td>\n",
       "      <td>0.001558</td>\n",
       "      <td>0.00</td>\n",
       "      <td>0.984824</td>\n",
       "      <td>0.934</td>\n",
       "      <td>0.381679</td>\n",
       "      <td>0.666667</td>\n",
       "      <td>0.124088</td>\n",
       "      <td>0.0</td>\n",
       "      <td>0.854545</td>\n",
       "      <td>0.836957</td>\n",
       "      <td>0.011521</td>\n",
       "    </tr>\n",
       "    <tr>\n",
       "      <td>3</td>\n",
       "      <td>3</td>\n",
       "      <td>0.0</td>\n",
       "      <td>0.000007</td>\n",
       "      <td>0.001558</td>\n",
       "      <td>0.75</td>\n",
       "      <td>0.201023</td>\n",
       "      <td>0.828</td>\n",
       "      <td>0.381679</td>\n",
       "      <td>0.666667</td>\n",
       "      <td>0.014599</td>\n",
       "      <td>1.0</td>\n",
       "      <td>0.727273</td>\n",
       "      <td>0.836957</td>\n",
       "      <td>0.011521</td>\n",
       "    </tr>\n",
       "    <tr>\n",
       "      <td>4</td>\n",
       "      <td>4</td>\n",
       "      <td>0.0</td>\n",
       "      <td>0.000007</td>\n",
       "      <td>0.001526</td>\n",
       "      <td>0.00</td>\n",
       "      <td>0.283801</td>\n",
       "      <td>0.910</td>\n",
       "      <td>0.381679</td>\n",
       "      <td>0.333333</td>\n",
       "      <td>0.919708</td>\n",
       "      <td>0.0</td>\n",
       "      <td>0.390909</td>\n",
       "      <td>0.836957</td>\n",
       "      <td>0.003500</td>\n",
       "    </tr>\n",
       "    <tr>\n",
       "      <td>5</td>\n",
       "      <td>5</td>\n",
       "      <td>0.0</td>\n",
       "      <td>0.000008</td>\n",
       "      <td>0.004971</td>\n",
       "      <td>0.00</td>\n",
       "      <td>0.650034</td>\n",
       "      <td>0.520</td>\n",
       "      <td>0.381679</td>\n",
       "      <td>0.333333</td>\n",
       "      <td>0.481752</td>\n",
       "      <td>0.0</td>\n",
       "      <td>0.059091</td>\n",
       "      <td>0.836957</td>\n",
       "      <td>0.000000</td>\n",
       "    </tr>\n",
       "    <tr>\n",
       "      <td>6</td>\n",
       "      <td>6</td>\n",
       "      <td>0.0</td>\n",
       "      <td>0.000008</td>\n",
       "      <td>0.013221</td>\n",
       "      <td>0.00</td>\n",
       "      <td>0.672281</td>\n",
       "      <td>0.780</td>\n",
       "      <td>0.381679</td>\n",
       "      <td>0.333333</td>\n",
       "      <td>0.919708</td>\n",
       "      <td>0.0</td>\n",
       "      <td>0.511364</td>\n",
       "      <td>0.836957</td>\n",
       "      <td>0.011521</td>\n",
       "    </tr>\n",
       "    <tr>\n",
       "      <td>7</td>\n",
       "      <td>7</td>\n",
       "      <td>0.0</td>\n",
       "      <td>0.000009</td>\n",
       "      <td>0.000462</td>\n",
       "      <td>0.75</td>\n",
       "      <td>0.103645</td>\n",
       "      <td>0.000</td>\n",
       "      <td>0.381679</td>\n",
       "      <td>0.333333</td>\n",
       "      <td>0.919708</td>\n",
       "      <td>0.0</td>\n",
       "      <td>0.538636</td>\n",
       "      <td>0.836957</td>\n",
       "      <td>0.011521</td>\n",
       "    </tr>\n",
       "    <tr>\n",
       "      <td>8</td>\n",
       "      <td>8</td>\n",
       "      <td>0.0</td>\n",
       "      <td>0.000009</td>\n",
       "      <td>0.003656</td>\n",
       "      <td>0.00</td>\n",
       "      <td>0.942688</td>\n",
       "      <td>0.022</td>\n",
       "      <td>0.381679</td>\n",
       "      <td>0.666667</td>\n",
       "      <td>0.905109</td>\n",
       "      <td>0.0</td>\n",
       "      <td>0.236364</td>\n",
       "      <td>0.836957</td>\n",
       "      <td>0.001847</td>\n",
       "    </tr>\n",
       "    <tr>\n",
       "      <td>9</td>\n",
       "      <td>9</td>\n",
       "      <td>0.0</td>\n",
       "      <td>0.000009</td>\n",
       "      <td>0.002368</td>\n",
       "      <td>0.25</td>\n",
       "      <td>0.890779</td>\n",
       "      <td>0.504</td>\n",
       "      <td>0.129771</td>\n",
       "      <td>0.666667</td>\n",
       "      <td>0.248175</td>\n",
       "      <td>1.0</td>\n",
       "      <td>0.452273</td>\n",
       "      <td>0.836957</td>\n",
       "      <td>0.011521</td>\n",
       "    </tr>\n",
       "  </tbody>\n",
       "</table>\n",
       "</div>"
      ],
      "text/plain": [
       "   Unnamed: 0  isFraud  TransactionDT  TransactionAmt  ProductCD     card1  \\\n",
       "0           0      0.0       0.000000        0.000900       0.00  0.100885   \n",
       "1           1      0.0       0.000004        0.001840       0.00  0.210566   \n",
       "2           2      0.0       0.000006        0.001558       0.00  0.984824   \n",
       "3           3      0.0       0.000007        0.001558       0.75  0.201023   \n",
       "4           4      0.0       0.000007        0.001526       0.00  0.283801   \n",
       "5           5      0.0       0.000008        0.004971       0.00  0.650034   \n",
       "6           6      0.0       0.000008        0.013221       0.00  0.672281   \n",
       "7           7      0.0       0.000009        0.000462       0.75  0.103645   \n",
       "8           8      0.0       0.000009        0.003656       0.00  0.942688   \n",
       "9           9      0.0       0.000009        0.002368       0.25  0.890779   \n",
       "\n",
       "   card2     card3     card4     card5  card6     addr1     addr2     dist1  \n",
       "0  0.608  0.381679  0.666667  0.014599    1.0  0.511364  0.836957  0.011521  \n",
       "1  0.780  0.381679  0.333333  0.481752    0.0  0.522727  0.836957  0.027902  \n",
       "2  0.934  0.381679  0.666667  0.124088    0.0  0.854545  0.836957  0.011521  \n",
       "3  0.828  0.381679  0.666667  0.014599    1.0  0.727273  0.836957  0.011521  \n",
       "4  0.910  0.381679  0.333333  0.919708    0.0  0.390909  0.836957  0.003500  \n",
       "5  0.520  0.381679  0.333333  0.481752    0.0  0.059091  0.836957  0.000000  \n",
       "6  0.780  0.381679  0.333333  0.919708    0.0  0.511364  0.836957  0.011521  \n",
       "7  0.000  0.381679  0.333333  0.919708    0.0  0.538636  0.836957  0.011521  \n",
       "8  0.022  0.381679  0.666667  0.905109    0.0  0.236364  0.836957  0.001847  \n",
       "9  0.504  0.129771  0.666667  0.248175    1.0  0.452273  0.836957  0.011521  "
      ]
     },
     "execution_count": 4,
     "metadata": {},
     "output_type": "execute_result"
    }
   ],
   "source": [
    "df.head(10)"
   ]
  },
  {
   "cell_type": "code",
   "execution_count": 5,
   "metadata": {},
   "outputs": [],
   "source": [
    "df.drop('Unnamed: 0', axis=1, inplace=True)"
   ]
  },
  {
   "cell_type": "code",
   "execution_count": 6,
   "metadata": {},
   "outputs": [
    {
     "data": {
      "text/plain": [
       "Index(['isFraud', 'TransactionDT', 'TransactionAmt', 'ProductCD', 'card1',\n",
       "       'card2', 'card3', 'card4', 'card5', 'card6', 'addr1', 'addr2', 'dist1'],\n",
       "      dtype='object')"
      ]
     },
     "execution_count": 6,
     "metadata": {},
     "output_type": "execute_result"
    }
   ],
   "source": [
    "df.columns"
   ]
  },
  {
   "cell_type": "markdown",
   "metadata": {},
   "source": [
    "### tirando amostra estratificada"
   ]
  },
  {
   "cell_type": "code",
   "execution_count": 10,
   "metadata": {},
   "outputs": [],
   "source": [
    "dados_teste = df[df['isFraud'] == 1].sample(20073)"
   ]
  },
  {
   "cell_type": "code",
   "execution_count": 11,
   "metadata": {},
   "outputs": [],
   "source": [
    "dados_teste1 = df[df['isFraud'] == 0].sample(40000)"
   ]
  },
  {
   "cell_type": "code",
   "execution_count": 12,
   "metadata": {},
   "outputs": [],
   "source": [
    "dados = pd.concat([dados_teste, dados_teste1])"
   ]
  },
  {
   "cell_type": "code",
   "execution_count": 14,
   "metadata": {},
   "outputs": [
    {
     "name": "stdout",
     "output_type": "stream",
     "text": [
      "<class 'pandas.core.frame.DataFrame'>\n",
      "Int64Index: 60073 entries, 290694 to 397397\n",
      "Data columns (total 13 columns):\n",
      "isFraud           60073 non-null float64\n",
      "TransactionDT     60073 non-null float64\n",
      "TransactionAmt    60073 non-null float64\n",
      "ProductCD         60073 non-null float64\n",
      "card1             60073 non-null float64\n",
      "card2             60073 non-null float64\n",
      "card3             60073 non-null float64\n",
      "card4             60073 non-null float64\n",
      "card5             60073 non-null float64\n",
      "card6             60073 non-null float64\n",
      "addr1             60073 non-null float64\n",
      "addr2             60073 non-null float64\n",
      "dist1             60073 non-null float64\n",
      "dtypes: float64(13)\n",
      "memory usage: 6.4 MB\n"
     ]
    }
   ],
   "source": [
    "dados.info()"
   ]
  },
  {
   "cell_type": "code",
   "execution_count": 15,
   "metadata": {},
   "outputs": [],
   "source": [
    "classe = dados['isFraud']\n",
    "previsores = dados[[\"TransactionDT\", \"TransactionAmt\", \"ProductCD\", \"card1\", \"card2\", \"card3\", \"card4\", \"card5\", \"card6\", \"addr1\", \"addr2\", \"dist1\"]]"
   ]
  },
  {
   "cell_type": "code",
   "execution_count": 17,
   "metadata": {},
   "outputs": [
    {
     "name": "stdout",
     "output_type": "stream",
     "text": [
      "Treino com 45054 elementos e teste com 15019 elementos\n"
     ]
    }
   ],
   "source": [
    "SEED = 5\n",
    "np.random.seed(SEED)\n",
    "treino_x, teste_x, treino_y, teste_y = train_test_split(previsores, classe, test_size = 0.25,\n",
    "                                                         stratify = classe)\n",
    "print(\"Treino com %d elementos e teste com %d elementos\" % (len(treino_x), len(teste_x)))"
   ]
  },
  {
   "cell_type": "code",
   "execution_count": 18,
   "metadata": {},
   "outputs": [
    {
     "name": "stdout",
     "output_type": "stream",
     "text": [
      "A acurácia foi 73.14%\n"
     ]
    }
   ],
   "source": [
    "modelo = LinearSVC()\n",
    "modelo.fit(treino_x, treino_y)\n",
    "previsoes = modelo.predict(teste_x)\n",
    "\n",
    "acuracia = accuracy_score(teste_y, previsoes) * 100\n",
    "print(\"A acurácia foi %.2f%%\" % acuracia)"
   ]
  },
  {
   "cell_type": "markdown",
   "metadata": {},
   "source": [
    "### SVM com standardScaler"
   ]
  },
  {
   "cell_type": "code",
   "execution_count": 20,
   "metadata": {},
   "outputs": [
    {
     "name": "stdout",
     "output_type": "stream",
     "text": [
      "Treinaremos com 45054 elementos e testaremos com 15019 elementos\n",
      "A acurácia foi 76.74%\n"
     ]
    }
   ],
   "source": [
    "from sklearn.preprocessing import StandardScaler\n",
    "from sklearn.model_selection import train_test_split\n",
    "from sklearn.svm import SVC\n",
    "from sklearn.metrics import accuracy_score\n",
    "\n",
    "SEED = 5\n",
    "np.random.seed(SEED)\n",
    "raw_treino_x, raw_teste_x, treino_y, teste_y = train_test_split(previsores, classe, test_size = 0.25,\n",
    "                                                         stratify = classe)\n",
    "print(\"Treinaremos com %d elementos e testaremos com %d elementos\" % (len(treino_x), len(teste_x)))\n",
    "\n",
    "scaler = StandardScaler()\n",
    "scaler.fit(raw_treino_x)\n",
    "treino_x = scaler.transform(raw_treino_x)\n",
    "teste_x = scaler.transform(raw_teste_x)\n",
    "\n",
    "modelo = SVC()\n",
    "modelo.fit(treino_x, treino_y)\n",
    "previsoes = modelo.predict(teste_x)\n",
    "\n",
    "acuracia = accuracy_score(teste_y, previsoes) * 100\n",
    "print(\"A acurácia foi %.2f%%\" % acuracia)"
   ]
  },
  {
   "cell_type": "markdown",
   "metadata": {},
   "source": [
    "### Modelo com DecisionTreeClassifier"
   ]
  },
  {
   "cell_type": "code",
   "execution_count": 22,
   "metadata": {},
   "outputs": [
    {
     "name": "stdout",
     "output_type": "stream",
     "text": [
      "Treinaremos com 45054 elementos e testaremos com 15019 elementos\n",
      "A acurácia foi 74.55%\n"
     ]
    }
   ],
   "source": [
    "from sklearn.preprocessing import StandardScaler\n",
    "from sklearn.model_selection import train_test_split\n",
    "from sklearn.tree import DecisionTreeClassifier\n",
    "from sklearn.metrics import accuracy_score\n",
    "\n",
    "SEED = 5\n",
    "np.random.seed(SEED)\n",
    "raw_treino_x, raw_teste_x, treino_y, teste_y = train_test_split(previsores, classe, test_size = 0.25,\n",
    "                                                         stratify = classe)\n",
    "print(\"Treinaremos com %d elementos e testaremos com %d elementos\" % (len(treino_x), len(teste_x)))\n",
    "\n",
    "modelo = DecisionTreeClassifier(max_depth=3)\n",
    "modelo.fit(raw_treino_x, treino_y)\n",
    "previsoes = modelo.predict(raw_teste_x)\n",
    "\n",
    "acuracia = accuracy_score(teste_y, previsoes) * 100\n",
    "print(\"A acurácia foi %.2f%%\" % acuracia)"
   ]
  },
  {
   "cell_type": "markdown",
   "metadata": {},
   "source": [
    "### Modelo com RandomForest"
   ]
  },
  {
   "cell_type": "code",
   "execution_count": 24,
   "metadata": {},
   "outputs": [
    {
     "name": "stdout",
     "output_type": "stream",
     "text": [
      "precisao 87.33769836866053\n"
     ]
    }
   ],
   "source": [
    "from sklearn.preprocessing import StandardScaler\n",
    "scaler = StandardScaler()\n",
    "previsores = scaler.fit_transform(previsores)\n",
    "\n",
    "from sklearn.model_selection import train_test_split\n",
    "previsores_treinamento, previsores_teste, classe_treinamento, classe_teste = train_test_split(previsores, classe, test_size=0.15, random_state=0)\n",
    "\n",
    "from sklearn.ensemble import RandomForestClassifier\n",
    "classificador = RandomForestClassifier(n_estimators=40, criterion='entropy', random_state=0)\n",
    "classificador.fit(previsores_treinamento, classe_treinamento)\n",
    "previsoes = classificador.predict(previsores_teste)\n",
    "\n",
    "from sklearn.metrics import confusion_matrix, accuracy_score\n",
    "precisao = accuracy_score(classe_teste, previsoes)\n",
    "matriz = confusion_matrix(classe_teste, previsoes)\n",
    "\n",
    "print('precisao {}'.format(precisao * 100))"
   ]
  },
  {
   "cell_type": "code",
   "execution_count": 26,
   "metadata": {},
   "outputs": [],
   "source": [
    "data = pd.concat([dados_teste,dados_teste1])"
   ]
  },
  {
   "cell_type": "code",
   "execution_count": 27,
   "metadata": {},
   "outputs": [
    {
     "data": {
      "text/plain": [
       "(60073, 13)"
      ]
     },
     "execution_count": 27,
     "metadata": {},
     "output_type": "execute_result"
    }
   ],
   "source": [
    "data.shape"
   ]
  },
  {
   "cell_type": "code",
   "execution_count": 28,
   "metadata": {},
   "outputs": [],
   "source": [
    "data.to_csv('base_scaled.csv')"
   ]
  },
  {
   "cell_type": "code",
   "execution_count": null,
   "metadata": {},
   "outputs": [],
   "source": []
  }
 ],
 "metadata": {
  "kernelspec": {
   "display_name": "Python 3",
   "language": "python",
   "name": "python3"
  },
  "language_info": {
   "codemirror_mode": {
    "name": "ipython",
    "version": 3
   },
   "file_extension": ".py",
   "mimetype": "text/x-python",
   "name": "python",
   "nbconvert_exporter": "python",
   "pygments_lexer": "ipython3",
   "version": "3.7.4"
  }
 },
 "nbformat": 4,
 "nbformat_minor": 2
}
