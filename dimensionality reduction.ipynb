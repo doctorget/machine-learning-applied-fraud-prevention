{
 "cells": [
  {
   "cell_type": "code",
   "execution_count": 1,
   "metadata": {},
   "outputs": [],
   "source": [
    "import pandas as pd"
   ]
  },
  {
   "cell_type": "code",
   "execution_count": 2,
   "metadata": {},
   "outputs": [],
   "source": [
    "dados = pd.read_csv('base_scaled.csv')"
   ]
  },
  {
   "cell_type": "markdown",
   "metadata": {},
   "source": [
    "### formula coeficiente de variação == media/desvios-padrão\n",
    "\n",
    "media/desvios-padrão = 0 >= 0.10 (otimos dados)(baixa dispersão)\n",
    "\n",
    "media/desvios-padrão = 0.10 >= 0.20 (bons dados)(media dispersão)\n",
    "\n",
    "media/desvios-padrão = 0.20 >= 0.30 (dados ruins)(alta dispersão)\n",
    "\n",
    "media/desvios-padrão => 0.30 (pessimos dados)(Esqueça)\n",
    "\n",
    "### Solução alta dispersão == Aumentar o tamanho da amostra"
   ]
  },
  {
   "cell_type": "code",
   "execution_count": 3,
   "metadata": {},
   "outputs": [
    {
     "data": {
      "text/html": [
       "<div>\n",
       "<style scoped>\n",
       "    .dataframe tbody tr th:only-of-type {\n",
       "        vertical-align: middle;\n",
       "    }\n",
       "\n",
       "    .dataframe tbody tr th {\n",
       "        vertical-align: top;\n",
       "    }\n",
       "\n",
       "    .dataframe thead th {\n",
       "        text-align: right;\n",
       "    }\n",
       "</style>\n",
       "<table border=\"1\" class=\"dataframe\">\n",
       "  <thead>\n",
       "    <tr style=\"text-align: right;\">\n",
       "      <th></th>\n",
       "      <th>Unnamed: 0</th>\n",
       "      <th>isFraud</th>\n",
       "      <th>TransactionDT</th>\n",
       "      <th>TransactionAmt</th>\n",
       "      <th>ProductCD</th>\n",
       "      <th>card1</th>\n",
       "      <th>card2</th>\n",
       "      <th>card3</th>\n",
       "      <th>card4</th>\n",
       "      <th>card5</th>\n",
       "      <th>card6</th>\n",
       "      <th>addr1</th>\n",
       "      <th>addr2</th>\n",
       "      <th>dist1</th>\n",
       "    </tr>\n",
       "  </thead>\n",
       "  <tbody>\n",
       "    <tr>\n",
       "      <td>0</td>\n",
       "      <td>290694</td>\n",
       "      <td>1.0</td>\n",
       "      <td>0.460734</td>\n",
       "      <td>0.000692</td>\n",
       "      <td>0.25</td>\n",
       "      <td>0.072201</td>\n",
       "      <td>0.890</td>\n",
       "      <td>0.648855</td>\n",
       "      <td>0.333333</td>\n",
       "      <td>0.919708</td>\n",
       "      <td>1.0</td>\n",
       "      <td>0.452273</td>\n",
       "      <td>0.836957</td>\n",
       "      <td>0.011521</td>\n",
       "    </tr>\n",
       "    <tr>\n",
       "      <td>1</td>\n",
       "      <td>332047</td>\n",
       "      <td>1.0</td>\n",
       "      <td>0.526220</td>\n",
       "      <td>0.001288</td>\n",
       "      <td>0.25</td>\n",
       "      <td>0.461370</td>\n",
       "      <td>0.890</td>\n",
       "      <td>0.648855</td>\n",
       "      <td>0.333333</td>\n",
       "      <td>0.270073</td>\n",
       "      <td>1.0</td>\n",
       "      <td>0.452273</td>\n",
       "      <td>0.836957</td>\n",
       "      <td>0.011521</td>\n",
       "    </tr>\n",
       "    <tr>\n",
       "      <td>2</td>\n",
       "      <td>467475</td>\n",
       "      <td>1.0</td>\n",
       "      <td>0.778893</td>\n",
       "      <td>0.003656</td>\n",
       "      <td>0.00</td>\n",
       "      <td>0.588239</td>\n",
       "      <td>0.442</td>\n",
       "      <td>0.381679</td>\n",
       "      <td>0.333333</td>\n",
       "      <td>0.693431</td>\n",
       "      <td>0.0</td>\n",
       "      <td>0.854545</td>\n",
       "      <td>0.836957</td>\n",
       "      <td>0.011521</td>\n",
       "    </tr>\n",
       "    <tr>\n",
       "      <td>3</td>\n",
       "      <td>514361</td>\n",
       "      <td>1.0</td>\n",
       "      <td>0.869131</td>\n",
       "      <td>0.000724</td>\n",
       "      <td>0.25</td>\n",
       "      <td>0.477121</td>\n",
       "      <td>0.006</td>\n",
       "      <td>0.648855</td>\n",
       "      <td>0.333333</td>\n",
       "      <td>0.277372</td>\n",
       "      <td>0.0</td>\n",
       "      <td>0.452273</td>\n",
       "      <td>0.836957</td>\n",
       "      <td>0.011521</td>\n",
       "    </tr>\n",
       "    <tr>\n",
       "      <td>4</td>\n",
       "      <td>525114</td>\n",
       "      <td>1.0</td>\n",
       "      <td>0.890713</td>\n",
       "      <td>0.031116</td>\n",
       "      <td>0.00</td>\n",
       "      <td>0.288515</td>\n",
       "      <td>0.966</td>\n",
       "      <td>0.381679</td>\n",
       "      <td>0.333333</td>\n",
       "      <td>0.919708</td>\n",
       "      <td>1.0</td>\n",
       "      <td>0.236364</td>\n",
       "      <td>0.836957</td>\n",
       "      <td>0.011521</td>\n",
       "    </tr>\n",
       "  </tbody>\n",
       "</table>\n",
       "</div>"
      ],
      "text/plain": [
       "   Unnamed: 0  isFraud  TransactionDT  TransactionAmt  ProductCD     card1  \\\n",
       "0      290694      1.0       0.460734        0.000692       0.25  0.072201   \n",
       "1      332047      1.0       0.526220        0.001288       0.25  0.461370   \n",
       "2      467475      1.0       0.778893        0.003656       0.00  0.588239   \n",
       "3      514361      1.0       0.869131        0.000724       0.25  0.477121   \n",
       "4      525114      1.0       0.890713        0.031116       0.00  0.288515   \n",
       "\n",
       "   card2     card3     card4     card5  card6     addr1     addr2     dist1  \n",
       "0  0.890  0.648855  0.333333  0.919708    1.0  0.452273  0.836957  0.011521  \n",
       "1  0.890  0.648855  0.333333  0.270073    1.0  0.452273  0.836957  0.011521  \n",
       "2  0.442  0.381679  0.333333  0.693431    0.0  0.854545  0.836957  0.011521  \n",
       "3  0.006  0.648855  0.333333  0.277372    0.0  0.452273  0.836957  0.011521  \n",
       "4  0.966  0.381679  0.333333  0.919708    1.0  0.236364  0.836957  0.011521  "
      ]
     },
     "execution_count": 3,
     "metadata": {},
     "output_type": "execute_result"
    }
   ],
   "source": [
    "dados.head()"
   ]
  },
  {
   "cell_type": "code",
   "execution_count": 4,
   "metadata": {},
   "outputs": [],
   "source": [
    "dados.drop('Unnamed: 0', axis=1, inplace=True)"
   ]
  },
  {
   "cell_type": "code",
   "execution_count": 5,
   "metadata": {},
   "outputs": [
    {
     "data": {
      "text/html": [
       "<div>\n",
       "<style scoped>\n",
       "    .dataframe tbody tr th:only-of-type {\n",
       "        vertical-align: middle;\n",
       "    }\n",
       "\n",
       "    .dataframe tbody tr th {\n",
       "        vertical-align: top;\n",
       "    }\n",
       "\n",
       "    .dataframe thead th {\n",
       "        text-align: right;\n",
       "    }\n",
       "</style>\n",
       "<table border=\"1\" class=\"dataframe\">\n",
       "  <thead>\n",
       "    <tr style=\"text-align: right;\">\n",
       "      <th></th>\n",
       "      <th>isFraud</th>\n",
       "      <th>TransactionDT</th>\n",
       "      <th>TransactionAmt</th>\n",
       "      <th>ProductCD</th>\n",
       "      <th>card1</th>\n",
       "      <th>card2</th>\n",
       "      <th>card3</th>\n",
       "      <th>card4</th>\n",
       "      <th>card5</th>\n",
       "      <th>card6</th>\n",
       "      <th>addr1</th>\n",
       "      <th>addr2</th>\n",
       "      <th>dist1</th>\n",
       "    </tr>\n",
       "  </thead>\n",
       "  <tbody>\n",
       "    <tr>\n",
       "      <td>0</td>\n",
       "      <td>1.0</td>\n",
       "      <td>0.460734</td>\n",
       "      <td>0.000692</td>\n",
       "      <td>0.25</td>\n",
       "      <td>0.072201</td>\n",
       "      <td>0.890</td>\n",
       "      <td>0.648855</td>\n",
       "      <td>0.333333</td>\n",
       "      <td>0.919708</td>\n",
       "      <td>1.0</td>\n",
       "      <td>0.452273</td>\n",
       "      <td>0.836957</td>\n",
       "      <td>0.011521</td>\n",
       "    </tr>\n",
       "    <tr>\n",
       "      <td>1</td>\n",
       "      <td>1.0</td>\n",
       "      <td>0.526220</td>\n",
       "      <td>0.001288</td>\n",
       "      <td>0.25</td>\n",
       "      <td>0.461370</td>\n",
       "      <td>0.890</td>\n",
       "      <td>0.648855</td>\n",
       "      <td>0.333333</td>\n",
       "      <td>0.270073</td>\n",
       "      <td>1.0</td>\n",
       "      <td>0.452273</td>\n",
       "      <td>0.836957</td>\n",
       "      <td>0.011521</td>\n",
       "    </tr>\n",
       "    <tr>\n",
       "      <td>2</td>\n",
       "      <td>1.0</td>\n",
       "      <td>0.778893</td>\n",
       "      <td>0.003656</td>\n",
       "      <td>0.00</td>\n",
       "      <td>0.588239</td>\n",
       "      <td>0.442</td>\n",
       "      <td>0.381679</td>\n",
       "      <td>0.333333</td>\n",
       "      <td>0.693431</td>\n",
       "      <td>0.0</td>\n",
       "      <td>0.854545</td>\n",
       "      <td>0.836957</td>\n",
       "      <td>0.011521</td>\n",
       "    </tr>\n",
       "    <tr>\n",
       "      <td>3</td>\n",
       "      <td>1.0</td>\n",
       "      <td>0.869131</td>\n",
       "      <td>0.000724</td>\n",
       "      <td>0.25</td>\n",
       "      <td>0.477121</td>\n",
       "      <td>0.006</td>\n",
       "      <td>0.648855</td>\n",
       "      <td>0.333333</td>\n",
       "      <td>0.277372</td>\n",
       "      <td>0.0</td>\n",
       "      <td>0.452273</td>\n",
       "      <td>0.836957</td>\n",
       "      <td>0.011521</td>\n",
       "    </tr>\n",
       "    <tr>\n",
       "      <td>4</td>\n",
       "      <td>1.0</td>\n",
       "      <td>0.890713</td>\n",
       "      <td>0.031116</td>\n",
       "      <td>0.00</td>\n",
       "      <td>0.288515</td>\n",
       "      <td>0.966</td>\n",
       "      <td>0.381679</td>\n",
       "      <td>0.333333</td>\n",
       "      <td>0.919708</td>\n",
       "      <td>1.0</td>\n",
       "      <td>0.236364</td>\n",
       "      <td>0.836957</td>\n",
       "      <td>0.011521</td>\n",
       "    </tr>\n",
       "  </tbody>\n",
       "</table>\n",
       "</div>"
      ],
      "text/plain": [
       "   isFraud  TransactionDT  TransactionAmt  ProductCD     card1  card2  \\\n",
       "0      1.0       0.460734        0.000692       0.25  0.072201  0.890   \n",
       "1      1.0       0.526220        0.001288       0.25  0.461370  0.890   \n",
       "2      1.0       0.778893        0.003656       0.00  0.588239  0.442   \n",
       "3      1.0       0.869131        0.000724       0.25  0.477121  0.006   \n",
       "4      1.0       0.890713        0.031116       0.00  0.288515  0.966   \n",
       "\n",
       "      card3     card4     card5  card6     addr1     addr2     dist1  \n",
       "0  0.648855  0.333333  0.919708    1.0  0.452273  0.836957  0.011521  \n",
       "1  0.648855  0.333333  0.270073    1.0  0.452273  0.836957  0.011521  \n",
       "2  0.381679  0.333333  0.693431    0.0  0.854545  0.836957  0.011521  \n",
       "3  0.648855  0.333333  0.277372    0.0  0.452273  0.836957  0.011521  \n",
       "4  0.381679  0.333333  0.919708    1.0  0.236364  0.836957  0.011521  "
      ]
     },
     "execution_count": 5,
     "metadata": {},
     "output_type": "execute_result"
    }
   ],
   "source": [
    "dados.head()"
   ]
  },
  {
   "cell_type": "code",
   "execution_count": 6,
   "metadata": {},
   "outputs": [
    {
     "data": {
      "text/plain": [
       "20073"
      ]
     },
     "execution_count": 6,
     "metadata": {},
     "output_type": "execute_result"
    }
   ],
   "source": [
    "len(dados[dados['isFraud'] == 1.0])"
   ]
  },
  {
   "cell_type": "code",
   "execution_count": 7,
   "metadata": {},
   "outputs": [],
   "source": [
    "df1 = dados[dados['isFraud'] == 1.0].sample(20000)\n",
    "df2 = dados[dados['isFraud'] == 0.0].sample(40000)\n",
    "data = pd.concat([df1,df2])\n",
    "\n",
    "media_transaction = data.TransactionAmt.mean()"
   ]
  },
  {
   "cell_type": "code",
   "execution_count": 8,
   "metadata": {},
   "outputs": [
    {
     "data": {
      "text/plain": [
       "0.004337719663793387"
      ]
     },
     "execution_count": 8,
     "metadata": {},
     "output_type": "execute_result"
    }
   ],
   "source": [
    "media_transaction"
   ]
  },
  {
   "cell_type": "code",
   "execution_count": 9,
   "metadata": {},
   "outputs": [],
   "source": [
    "desvio_padrao = data.TransactionAmt.std()"
   ]
  },
  {
   "cell_type": "code",
   "execution_count": 10,
   "metadata": {},
   "outputs": [
    {
     "data": {
      "text/plain": [
       "0.6023174160892698"
      ]
     },
     "execution_count": 10,
     "metadata": {},
     "output_type": "execute_result"
    }
   ],
   "source": [
    "media_transaction/desvio_padrao"
   ]
  },
  {
   "cell_type": "code",
   "execution_count": 11,
   "metadata": {},
   "outputs": [
    {
     "data": {
      "text/plain": [
       "Index(['isFraud', 'TransactionDT', 'TransactionAmt', 'ProductCD', 'card1',\n",
       "       'card2', 'card3', 'card4', 'card5', 'card6', 'addr1', 'addr2', 'dist1'],\n",
       "      dtype='object')"
      ]
     },
     "execution_count": 11,
     "metadata": {},
     "output_type": "execute_result"
    }
   ],
   "source": [
    "data.columns"
   ]
  },
  {
   "cell_type": "code",
   "execution_count": 12,
   "metadata": {},
   "outputs": [],
   "source": [
    "previsores = data.iloc[:, 1:12].values\n",
    "classe = data.iloc[:, 0].values "
   ]
  },
  {
   "cell_type": "code",
   "execution_count": 94,
   "metadata": {},
   "outputs": [],
   "source": [
    "data.to_csv('base_teste.csv', index=False)"
   ]
  },
  {
   "cell_type": "code",
   "execution_count": 13,
   "metadata": {},
   "outputs": [],
   "source": [
    "from sklearn.model_selection import train_test_split\n",
    "previsores_treinamento, previsores_teste, classe_treinamento, classe_teste = train_test_split(previsores, classe, test_size=0.15, random_state=0)"
   ]
  },
  {
   "cell_type": "code",
   "execution_count": 14,
   "metadata": {},
   "outputs": [],
   "source": [
    "from sklearn.decomposition import PCA\n",
    "pca = PCA(n_components = 5)\n",
    "previsores_treinamento = pca.fit_transform(previsores_treinamento)\n",
    "previsores_teste = pca.transform(previsores_teste) \n",
    "componentes = pca.explained_variance_ratio_\n"
   ]
  },
  {
   "cell_type": "code",
   "execution_count": 106,
   "metadata": {},
   "outputs": [],
   "source": [
    "from sklearn.ensemble import RandomForestClassifier\n",
    "classificador = RandomForestClassifier(n_estimators=40, criterion='entropy', random_state=0)\n",
    "classificador.fit(previsores_treinamento, classe_treinamento)\n",
    "previsoes = classificador.predict(previsores_teste)"
   ]
  },
  {
   "cell_type": "code",
   "execution_count": 107,
   "metadata": {},
   "outputs": [
    {
     "name": "stdout",
     "output_type": "stream",
     "text": [
      "0.8405534134724427\n"
     ]
    }
   ],
   "source": [
    "from sklearn.metrics import confusion_matrix, accuracy_score\n",
    "precisao = accuracy_score(classe_teste, previsoes)\n",
    "matriz = confusion_matrix(classe_teste, previsoes)\n",
    "print(precisao)"
   ]
  },
  {
   "cell_type": "code",
   "execution_count": null,
   "metadata": {},
   "outputs": [],
   "source": []
  }
 ],
 "metadata": {
  "kernelspec": {
   "display_name": "Python 3",
   "language": "python",
   "name": "python3"
  },
  "language_info": {
   "codemirror_mode": {
    "name": "ipython",
    "version": 3
   },
   "file_extension": ".py",
   "mimetype": "text/x-python",
   "name": "python",
   "nbconvert_exporter": "python",
   "pygments_lexer": "ipython3",
   "version": "3.7.4"
  }
 },
 "nbformat": 4,
 "nbformat_minor": 2
}
